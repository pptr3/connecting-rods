{
 "cells": [
  {
   "cell_type": "markdown",
   "metadata": {},
   "source": [
    "**Author**: Petru Potrimba <br>\n",
    "**Matriculation**:  928850"
   ]
  },
  {
   "cell_type": "markdown",
   "metadata": {},
   "source": [
    "# Visual Inspection of Motorcycle Connecting Rods"
   ]
  },
  {
   "cell_type": "markdown",
   "metadata": {},
   "source": [
    "### Utility functions"
   ]
  },
  {
   "cell_type": "code",
   "execution_count": 193,
   "metadata": {},
   "outputs": [],
   "source": [
    "def defect_convexity_algorithm(img):\n",
    "    \n",
    "    contours, hierarchy = cv.findContours(img.copy(), cv.RETR_TREE, cv.CHAIN_APPROX_SIMPLE)\n",
    "    \n",
    "    sepc = -1\n",
    "    for i in range(len(contours)):\n",
    "        if(len(contours[i])) >= 326: # there are touching elements\n",
    "            sepc = i\n",
    "            break\n",
    "    \n",
    "    cnt = contours[sepc]\n",
    "    hull = cv.convexHull(cnt, returnPoints = False)\n",
    "    defects = cv.convexityDefects(cnt, hull)\n",
    "\n",
    "    collision_points = []\n",
    "    \n",
    "    if sepc != -1: # if sepc is different from \"-1\", it means that there are touching rods\n",
    "         for i in range(defects.shape[0]):\n",
    "            s,e,f,d = defects[i,0]\n",
    "            far = tuple(cnt[f][0])\n",
    "            if (far[0] - 1 >= 0) and (far[1] - 1 >= 0) and (far[0] + 1 <= 255) and (far[1] + 1 <= 255) and (far[0] - 2 >= 0) and (far[1] - 2 >= 0) and (far[0] + 2 <= 255) and (far[1] + 2 <= 255):\n",
    "                octet_sum = int(img[far[1] - 1, far[0]]) + int(img[far[1] - 1, far[0] - 1]) + int(img[far[1], far[0] - 1]) + int(img[far[1] + 1, far[0] - 1]) + int(img[far[1] + 1, far[0]]) + int(img[far[1] + 1, far[0] + 1]) + int(img[far[1], far[0] + 1]) + int(img[far[1] - 1, far[0] + 1]) + int(img[far[1] - 2, far[0]]) + int(img[far[1] - 2, far[0] - 1]) + int(img[far[1] - 2, far[0] - 2]) + int(img[far[1] -1, far[0] - 2]) + int(img[far[1], far[0] - 2]) + int(img[far[1] + 1, far[0] - 2]) + int(img[far[1] + 2,far[0] - 2]) + int(img[far[1] + 2, far[0] - 1]) + int(img[far[1] + 2, far[0]]) + int(img[far[1] + 2, far[0] + 1]) + int(img[far[1] + 2, far[0] + 2]) + int(img[far[1] + 1, far[0] + 2]) + int(img[far[1], far[0] + 2]) + int(img[far[1] - 1, far[0] + 2]) + int(img[far[1] - 2, far[0] + 2]) + int(img[far[1] - 2, far[0] + 1])\n",
    "                collision_points.append([far, octet_sum, False])\n",
    "            \n",
    "    if len(collision_points) > 0:\n",
    "        # calculate threshold            \n",
    "        white_pixel_value_sum = []\n",
    "        for i in range(len(collision_points)):\n",
    "            white_pixel_value_sum.append(collision_points[i][1])\n",
    "        remove_duplicate_list = np.sort(list(set(white_pixel_value_sum)))\n",
    "\n",
    "        changes_between_values = []\n",
    "        for i in range(len(remove_duplicate_list) - 1):\n",
    "            changes_between_values.append(remove_duplicate_list[i + 1] - remove_duplicate_list[i])\n",
    "        max_change = np.argmax(changes_between_values)\n",
    "        threshold = int(round((remove_duplicate_list[max_change + 1] + remove_duplicate_list[max_change]) / 2))\n",
    "    \n",
    "\n",
    "        # calculate euclidean distance\n",
    "        for i in range(len(collision_points) - 1):\n",
    "            distance_from_i_to_j = math.inf\n",
    "            index_of_j = -1\n",
    "            if collision_points[i][1] <= threshold and collision_points[i][2] == False: # means that still need to find its miniumum distance point\n",
    "                for j in range(i + 1, len(collision_points)):\n",
    "                    dst = distance.euclidean([collision_points[i][0][0], collision_points[i][0][1]], [collision_points[j][0][0], collision_points[j][0][1]])\n",
    "                    if dst < distance_from_i_to_j and collision_points[j][2] == False:\n",
    "                        distance_from_i_to_j = dst\n",
    "                        index_of_j = j\n",
    "                # draw line\n",
    "                cv.line(img,(collision_points[i][0][0],collision_points[i][0][1]),(collision_points[index_of_j][0][0],collision_points[index_of_j][0][1]),(255,0, 0),1)\n",
    "                collision_points[i][2] = True\n",
    "                collision_points[index_of_j][2] = True\n",
    "                \n",
    "    return img, collision_points\n",
    "\n",
    "def compute_width_at_barycenter(barX, barY, contours):\n",
    "    max_distance_from_bar = - math.inf\n",
    "    index_of_j = -1\n",
    "    for j in range(len(contours[i])):\n",
    "        dst = distance.euclidean([barX, barY], [contours[j][0][0], contours[j][0][1]])\n",
    "        if dst > max_distance_from_bar:\n",
    "            max_distance_from_bar = dst\n",
    "            index_of_j = j\n",
    "\n",
    "    x1 = contours[index_of_j][0][0]\n",
    "    x2 = round(barX)\n",
    "    y1 = contours[index_of_j][0][1]\n",
    "    y2 = round(barY)\n",
    "    xdif = x2 - x1\n",
    "    ydif = y2 - y1\n",
    "\n",
    "    line_len_at_barycenter = 3\n",
    "\n",
    "    a1 = int(round(x2 - ydif / line_len_at_barycenter))\n",
    "    b1 = int(round(y2 + xdif / line_len_at_barycenter))\n",
    "\n",
    "    a2 = int(round(x2 + ydif / line_len_at_barycenter))\n",
    "    b2 = int(round(y2 - xdif / line_len_at_barycenter))\n",
    "\n",
    "    distance_from_i_to_j = math.inf\n",
    "    index_of_j = -1\n",
    "    for j in range(len(contours)):\n",
    "        dst = distance.euclidean([a1, b1], [contours[j][0][0], contours[j][0][1]])\n",
    "        if dst < distance_from_i_to_j:\n",
    "            distance_from_i_to_j = dst\n",
    "            index_of_j = j\n",
    "\n",
    "    distance_from_i_to_k = math.inf\n",
    "    index_of_k = -1\n",
    "\n",
    "    for k in range(len(contours)):\n",
    "        dst = distance.euclidean([a2, b2], [contours[k][0][0], contours[k][0][1]])\n",
    "        if dst <= distance_from_i_to_k:\n",
    "            distance_from_i_to_k = dst\n",
    "            index_of_k = k\n",
    "    return distance.euclidean([contours[index_of_j][0][0], contours[index_of_j][0][1]], [contours[index_of_k][0][0], contours[index_of_k][0][1]])"
   ]
  },
  {
   "cell_type": "code",
   "execution_count": 194,
   "metadata": {},
   "outputs": [],
   "source": [
    "def compute_width_at_barycenter2(barX, barY, contours):\n",
    "    max_distance_from_bar = - math.inf\n",
    "    index_of_j = -1\n",
    "    for j in range(len(contours[i])):\n",
    "        dst = distance.euclidean([barX, barY], [contours[j][0][0], contours[j][0][1]])\n",
    "        if dst > max_distance_from_bar:\n",
    "            max_distance_from_bar = dst\n",
    "            index_of_j = j\n",
    "\n",
    "    x1 = contours[index_of_j][0][0]\n",
    "    x2 = round(barX)\n",
    "    y1 = contours[index_of_j][0][1]\n",
    "    y2 = round(barY)\n",
    "    xdif = x2 - x1\n",
    "    ydif = y2 - y1\n",
    "\n",
    "    line_len_at_barycenter = 3\n",
    "\n",
    "    a1 = int(round(x2 - ydif / line_len_at_barycenter))\n",
    "    b1 = int(round(y2 + xdif / line_len_at_barycenter))\n",
    "\n",
    "    a2 = int(round(x2 + ydif / line_len_at_barycenter))\n",
    "    b2 = int(round(y2 - xdif / line_len_at_barycenter))\n",
    "\n",
    "    distance_from_i_to_j = math.inf\n",
    "    index_of_j = -1\n",
    "    for j in range(len(contours)):\n",
    "        dst = distance.euclidean([a1, b1], [contours[j][0][0], contours[j][0][1]])\n",
    "        if dst < distance_from_i_to_j:\n",
    "            distance_from_i_to_j = dst\n",
    "            index_of_j = j\n",
    "\n",
    "    distance_from_i_to_k = math.inf\n",
    "    index_of_k = -1\n",
    "\n",
    "    for k in range(len(contours)):\n",
    "        dst = distance.euclidean([a2, b2], [contours[k][0][0], contours[k][0][1]])\n",
    "        if dst <= distance_from_i_to_k:\n",
    "            distance_from_i_to_k = dst\n",
    "            index_of_k = k\n",
    "    return contours[index_of_j][0][0], contours[index_of_j][0][1], contours[index_of_k][0][0], contours[index_of_k][0][1]"
   ]
  },
  {
   "cell_type": "code",
   "execution_count": null,
   "metadata": {},
   "outputs": [],
   "source": []
  },
  {
   "cell_type": "code",
   "execution_count": null,
   "metadata": {},
   "outputs": [],
   "source": []
  },
  {
   "cell_type": "code",
   "execution_count": null,
   "metadata": {},
   "outputs": [],
   "source": []
  },
  {
   "cell_type": "code",
   "execution_count": null,
   "metadata": {},
   "outputs": [],
   "source": []
  },
  {
   "cell_type": "code",
   "execution_count": null,
   "metadata": {},
   "outputs": [],
   "source": []
  },
  {
   "cell_type": "code",
   "execution_count": null,
   "metadata": {},
   "outputs": [],
   "source": []
  },
  {
   "cell_type": "code",
   "execution_count": null,
   "metadata": {},
   "outputs": [],
   "source": []
  },
  {
   "cell_type": "code",
   "execution_count": null,
   "metadata": {},
   "outputs": [],
   "source": []
  },
  {
   "cell_type": "code",
   "execution_count": null,
   "metadata": {},
   "outputs": [],
   "source": []
  },
  {
   "cell_type": "code",
   "execution_count": null,
   "metadata": {},
   "outputs": [],
   "source": []
  },
  {
   "cell_type": "code",
   "execution_count": null,
   "metadata": {},
   "outputs": [],
   "source": []
  },
  {
   "cell_type": "code",
   "execution_count": null,
   "metadata": {},
   "outputs": [],
   "source": []
  },
  {
   "cell_type": "code",
   "execution_count": null,
   "metadata": {},
   "outputs": [],
   "source": []
  },
  {
   "cell_type": "code",
   "execution_count": null,
   "metadata": {},
   "outputs": [],
   "source": []
  },
  {
   "cell_type": "code",
   "execution_count": null,
   "metadata": {},
   "outputs": [],
   "source": []
  },
  {
   "cell_type": "code",
   "execution_count": null,
   "metadata": {},
   "outputs": [],
   "source": []
  },
  {
   "cell_type": "code",
   "execution_count": null,
   "metadata": {},
   "outputs": [],
   "source": []
  },
  {
   "cell_type": "code",
   "execution_count": null,
   "metadata": {},
   "outputs": [],
   "source": []
  },
  {
   "cell_type": "code",
   "execution_count": null,
   "metadata": {},
   "outputs": [],
   "source": []
  },
  {
   "cell_type": "code",
   "execution_count": null,
   "metadata": {},
   "outputs": [],
   "source": []
  },
  {
   "cell_type": "code",
   "execution_count": null,
   "metadata": {},
   "outputs": [],
   "source": []
  },
  {
   "cell_type": "code",
   "execution_count": null,
   "metadata": {},
   "outputs": [],
   "source": []
  },
  {
   "cell_type": "code",
   "execution_count": null,
   "metadata": {},
   "outputs": [],
   "source": []
  },
  {
   "cell_type": "code",
   "execution_count": null,
   "metadata": {},
   "outputs": [],
   "source": []
  },
  {
   "cell_type": "code",
   "execution_count": null,
   "metadata": {},
   "outputs": [],
   "source": []
  },
  {
   "cell_type": "code",
   "execution_count": null,
   "metadata": {},
   "outputs": [],
   "source": []
  },
  {
   "cell_type": "code",
   "execution_count": null,
   "metadata": {},
   "outputs": [],
   "source": []
  },
  {
   "cell_type": "code",
   "execution_count": null,
   "metadata": {},
   "outputs": [],
   "source": []
  },
  {
   "cell_type": "code",
   "execution_count": null,
   "metadata": {},
   "outputs": [],
   "source": []
  },
  {
   "cell_type": "code",
   "execution_count": null,
   "metadata": {},
   "outputs": [],
   "source": []
  },
  {
   "cell_type": "code",
   "execution_count": null,
   "metadata": {},
   "outputs": [],
   "source": []
  },
  {
   "cell_type": "code",
   "execution_count": null,
   "metadata": {},
   "outputs": [],
   "source": []
  },
  {
   "cell_type": "code",
   "execution_count": null,
   "metadata": {},
   "outputs": [],
   "source": []
  },
  {
   "cell_type": "code",
   "execution_count": null,
   "metadata": {},
   "outputs": [],
   "source": []
  },
  {
   "cell_type": "code",
   "execution_count": null,
   "metadata": {},
   "outputs": [],
   "source": []
  },
  {
   "cell_type": "code",
   "execution_count": null,
   "metadata": {},
   "outputs": [],
   "source": []
  },
  {
   "cell_type": "code",
   "execution_count": null,
   "metadata": {},
   "outputs": [],
   "source": []
  },
  {
   "cell_type": "code",
   "execution_count": null,
   "metadata": {},
   "outputs": [],
   "source": []
  },
  {
   "cell_type": "code",
   "execution_count": null,
   "metadata": {},
   "outputs": [],
   "source": []
  },
  {
   "cell_type": "code",
   "execution_count": null,
   "metadata": {},
   "outputs": [],
   "source": []
  },
  {
   "cell_type": "code",
   "execution_count": null,
   "metadata": {},
   "outputs": [],
   "source": []
  },
  {
   "cell_type": "code",
   "execution_count": null,
   "metadata": {},
   "outputs": [],
   "source": []
  },
  {
   "cell_type": "code",
   "execution_count": null,
   "metadata": {},
   "outputs": [],
   "source": []
  },
  {
   "cell_type": "code",
   "execution_count": null,
   "metadata": {},
   "outputs": [],
   "source": []
  },
  {
   "cell_type": "markdown",
   "metadata": {},
   "source": [
    "### Original mage"
   ]
  },
  {
   "cell_type": "code",
   "execution_count": 537,
   "metadata": {},
   "outputs": [],
   "source": [
    "import cv2 as cv\n",
    "import numpy as np\n",
    "from matplotlib import pyplot as plt\n",
    "from scipy.spatial import distance\n",
    "import math\n",
    "\n",
    "\n",
    "original_img = cv.imread('testImages/TESI33.BMP', 0)\n",
    "img = original_img.copy()\n",
    "ret, img = cv.threshold(img, 0, 255, cv.THRESH_BINARY+cv.THRESH_OTSU)\n",
    "contours, hierarchy = cv.findContours(img.copy(), cv.RETR_TREE, cv.CHAIN_APPROX_NONE)\n",
    "img = cv.cvtColor(original_img, cv.COLOR_GRAY2BGR)\n",
    "\n",
    "def get_coords(x, y, angle):\n",
    "    length = 10\n",
    "    endx2 = x + length * math.cos(math.radians(angle+180))\n",
    "    endy2 = y + length * math.sin(math.radians(angle+180))\n",
    "\n",
    "    return round(endx2), round(endy2)\n",
    "\n",
    "def get_index_of_contour(contours, x_dest, y_dest):\n",
    "    distance_from_i_to_j = math.inf\n",
    "    index_of_j = -1\n",
    "    for j in range(len(contours)):\n",
    "        dst = distance.euclidean([x_dest, y_dest], [contours[j][0][0], contours[j][0][1]])\n",
    "        if dst < distance_from_i_to_j:\n",
    "            distance_from_i_to_j = dst\n",
    "            index_of_j = j\n",
    "    return index_of_j\n",
    "\n",
    "def compute_angle(contours):\n",
    "    ellipse = cv.fitEllipse(contours)\n",
    "    (xc,yc),(d1,d2), angle = ellipse\n",
    "\n",
    "    rmajor = max(d1,d2)\n",
    "    if angle > 90:\n",
    "        angle = angle - 90\n",
    "    else:\n",
    "        angle = angle + 90\n",
    "    return angle\n",
    "\n",
    "def compute_Wb(img, contours, hierarchy):\n",
    "    for i in range(hierarchy.shape[1]):\n",
    "        if hierarchy[0, i][3] == 0 and hierarchy[0, i][2] != -1 and len(contours[i]) >= 72:\n",
    "            rect = cv.minAreaRect(contours[i])\n",
    "            angle = compute_angle(contours[i])\n",
    "            angle1, angle2 = angle+90, 180+angle+90\n",
    "\n",
    "            x_dest, y_dest = get_coords(round(rect[0][0]), round(rect[0][1]), angle1)\n",
    "            index_of_j = get_index_of_contour(contours[i], x_dest, y_dest)\n",
    "            img = cv.circle(img, center=(contours[i][index_of_j][0][0], contours[i][index_of_j][0][1]), radius=1, color=(255, 0, 0) , thickness=3) \n",
    "\n",
    "\n",
    "            x_dest2, y_dest2 = get_coords(round(rect[0][0]), round(rect[0][1]), angle2)\n",
    "            index_of_j2 = get_index_of_contour(contours[i], x_dest2, y_dest2)\n",
    "            img = cv.circle(img, center=(contours[i][index_of_j2][0][0], contours[i][index_of_j2][0][1]), radius=1, color=(255, 0, 0) , thickness=3) \n",
    "\n",
    "            dst = distance.euclidean([contours[i][index_of_j][0][0], contours[i][index_of_j][0][1]], [contours[i][index_of_j2][0][0], contours[i][index_of_j2][0][1]])\n",
    "            print(\"Wb: \", dst )\n",
    "            plt.imshow(img, cmap = 'gray')\n",
    "        \n",
    "        \n",
    "    plt.show()"
   ]
  },
  {
   "cell_type": "code",
   "execution_count": 538,
   "metadata": {},
   "outputs": [
    {
     "name": "stdout",
     "output_type": "stream",
     "text": [
      "Wb:  23.853720883753127\n",
      "Wb:  23.345235059857504\n"
     ]
    },
    {
     "data": {
      "image/png": "[encoded data removed]",
      "text/plain": [
       "<Figure size 432x288 with 1 Axes>"
      ]
     },
     "metadata": {
      "needs_background": "light"
     },
     "output_type": "display_data"
    }
   ],
   "source": [
    "compute_Wb(img, contours, hierarchy)"
   ]
  },
  {
   "cell_type": "code",
   "execution_count": null,
   "metadata": {},
   "outputs": [],
   "source": []
  },
  {
   "cell_type": "code",
   "execution_count": null,
   "metadata": {},
   "outputs": [],
   "source": []
  },
  {
   "cell_type": "code",
   "execution_count": null,
   "metadata": {},
   "outputs": [],
   "source": []
  },
  {
   "cell_type": "code",
   "execution_count": null,
   "metadata": {},
   "outputs": [],
   "source": []
  },
  {
   "cell_type": "code",
   "execution_count": null,
   "metadata": {},
   "outputs": [],
   "source": []
  },
  {
   "cell_type": "code",
   "execution_count": null,
   "metadata": {},
   "outputs": [],
   "source": []
  },
  {
   "cell_type": "code",
   "execution_count": null,
   "metadata": {},
   "outputs": [],
   "source": []
  },
  {
   "cell_type": "code",
   "execution_count": null,
   "metadata": {},
   "outputs": [],
   "source": []
  },
  {
   "cell_type": "code",
   "execution_count": null,
   "metadata": {},
   "outputs": [],
   "source": []
  },
  {
   "cell_type": "code",
   "execution_count": null,
   "metadata": {},
   "outputs": [],
   "source": []
  }
 ],
 "metadata": {
  "kernelspec": {
   "display_name": "Python 3",
   "language": "python",
   "name": "python3"
  },
  "language_info": {
   "codemirror_mode": {
    "name": "ipython",
    "version": 3
   },
   "file_extension": ".py",
   "mimetype": "text/x-python",
   "name": "python",
   "nbconvert_exporter": "python",
   "pygments_lexer": "ipython3",
   "version": "3.9.12"
  }
 },
 "nbformat": 4,
 "nbformat_minor": 2
}
